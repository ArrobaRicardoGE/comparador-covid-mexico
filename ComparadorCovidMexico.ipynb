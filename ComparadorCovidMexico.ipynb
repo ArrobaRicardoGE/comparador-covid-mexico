{
  "nbformat": 4,
  "nbformat_minor": 0,
  "metadata": {
    "kernelspec": {
      "display_name": "Python 3",
      "language": "python",
      "name": "python3"
    },
    "language_info": {
      "codemirror_mode": {
        "name": "ipython",
        "version": 3
      },
      "file_extension": ".py",
      "mimetype": "text/x-python",
      "name": "python",
      "nbconvert_exporter": "python",
      "pygments_lexer": "ipython3",
      "version": "3.8.3"
    },
    "colab": {
      "name": "ComparadorCovidMexico.ipynb",
      "private_outputs": true,
      "provenance": []
    }
  },
  "cells": [
    {
      "cell_type": "markdown",
      "metadata": {
        "id": "6Pl95Trw1BGt"
      },
      "source": [
        "# Comparador COVID19 México\n",
        "## Herramienta para comparar fácilmente la cantidad de casos y decesos de COVID19 de dos fechas distintas\n",
        "Esta herramienta tiene como propósito obtener los casos y decesos ocurridos entre dos fechas especificadas a causa de COVID19. La información es obtenida directamente de los [Datos Abiertos de la Dirección General de Epidemiología del Gobierno de México](https://www.gob.mx/salud/documentos/datos-abiertos-152127), y es una alternativa a realizar el proceso de forma manual (tarea que no es simple, puesto que la base de datos cuenta con más de tres millones de registros, lo que excede la capacidad de programas comúnes como Excel).\n",
        "\n",
        "Utilizar la herramienta es bastante simple:\n",
        "- Llenar los datos del formulario a continuación. Se puede presionar el ícono del calendario para hacerlo de forma más sencilla. Hay que tomar en cuenta que las fechas están en formato año/mes/día. De igual manera, la base de datos se actualiza cada día al rededor de las 20:00, hora de la CDMX. Si se ingresa una fecha que aún no está disponible, el comparador tomará la  el último registro disponible.\n",
        "- Presionar el ícono de \"reproducir\" que está del lado izquierdo. El proceso puede tomar unos minutos puesto que tiene que descargar la información de la base de datos. \n",
        "- Cuando el proceso anterior ha terminado, hay que reproducir las celdas de la sección **Resultados del comparador**. Si se quiere descargar las tablas producidas, se tiene que reproducir la última celda.\n",
        "\n",
        "Para dudas o comentarios, estoy en Twitter como [@ArrobaRicardoGE](https://twitter.com/ArrobaRicardoGE). \n",
        "\n",
        "Este proyecto es de código abierto. Para contribuir, se puede visitar el respositorio en https://github.com/ArrobaRicardoGE/comparador-covid-mexico."
      ]
    },
    {
      "cell_type": "markdown",
      "metadata": {
        "id": "Z17xwQMY69z-"
      },
      "source": [
        "# Comparador"
      ]
    },
    {
      "cell_type": "code",
      "metadata": {
        "id": "hgqalDPC1BG-",
        "cellView": "form"
      },
      "source": [
        "'''\n",
        "ATENCION: Modificar el codigo podria afectar el funcionamiento de la herramienta,\n",
        "          hacerlo bajo su propio riesgo. El repositorio del proyecto esta dispo-\n",
        "          nible en https://github.com/ArrobaRicardoGE/comparador-covid-mexico.\n",
        "'''\n",
        "\n",
        "state_ids = {\n",
        "  'AGUASCALIENTES':1,\n",
        "  'BAJA CALIFORNIA':2,\n",
        "  'BAJA CALIFORNIA SUR':3,\n",
        "  'CAMPECHE':4,\n",
        "  'COAHUILA DE ZARAGOZA':5,\n",
        "  'COLIMA':6,\n",
        "  'CHIAPAS':7,\n",
        "  'CHIHUAHUA':8,\n",
        "  'CIUDAD DE MEXICO':9,\n",
        "  'DURANGO':10,\n",
        "  'GUANAJUATO':11,\n",
        "  'GUERRERO':12,\n",
        "  'HIDALGO':13,\n",
        "  'JALISCO':14,\n",
        "  'MEXICO':15,\n",
        "  'MICHOACAN DE OCAMPO':16,\n",
        "  'MORELOS':17,\n",
        "  'NAYARIT':18,\n",
        "  'NUEVO LEON':19,\n",
        "  'OAXACA':20,\n",
        "  'PUEBLA':21,\n",
        "  'QUERETARO':22,\n",
        "  'QUINTANA ROO':23,\n",
        "  'SAN LUIS POTOSI':24,\n",
        "  'SINALOA':25,\n",
        "  'SONORA':26,\n",
        "  'TABASCO':27,\n",
        "  'TAMAULIPAS':28,\n",
        "  'TLAXCALA':29,\n",
        "  'VERACRUZ DE IGNACIO DE LA LLAVE':30,\n",
        "  'YUCATAN':31,\n",
        "  'ZACATECAS':32,\n",
        "  'ESTADOS UNIDOS MEXICANOS':36,\n",
        "  'NO APLICA':97,\n",
        "  'SE IGNORA':98,\n",
        "  'NO ESPECIFICADO':99,\n",
        "}\n",
        "\n",
        "#@markdown Fecha reciente\n",
        "recent_date = '2021-01-04' #@param {type: 'date'}\n",
        "#@markdown Fecha anterior\n",
        "past_date = '2021-01-03' #@param {type: 'date'}\n",
        "#@markdown Entidad federativa\n",
        "state = 'AGUASCALIENTES' #@param type: 'dropdown', ['AGUASCALIENTES','BAJA CALIFORNIA','BAJA CALIFORNIA SUR','CAMPECHE','COAHUILA DE ZARAGOZA','COLIMA','CHIAPAS','CHIHUAHUA','CIUDAD DE MEXICO','DURANGO','GUANAJUATO','GUERRERO','HIDALGO','JALISCO','MEXICO','MICHOACAN DE OCAMPO','MORELOS','NAYARIT','NUEVO LEON','OAXACA','PUEBLA','QUERETARO','QUINTANA ROO','SAN LUIS POTOSI','SINALOA','SONORA','TABASCO','TAMAULIPAS','TLAXCALA','VERACRUZ DE IGNACIO DE LA LLAVE','YUCATAN','ZACATECAS','ESTADOS UNIDOS MEXICANOS','NO APLICA','SE IGNORA','NO ESPECIFICADO']\n",
        "\n",
        "state = state_ids[state]\n",
        "\n",
        "import pandas as pd\n",
        "\n",
        "def read_file(date):\n",
        "    try:\n",
        "        y,m,d = date.split('-')\n",
        "        if y == '2021':\n",
        "            try:\n",
        "                return pd.read_csv(f'http://datosabiertos.salud.gob.mx/gobmx/salud/datos_abiertos/historicos/2021/{m}/datos_abiertos_covid19_{d}.{m}.2021.zip',compression='zip',low_memory=False,encoding='ISO-8859-1')\n",
        "            except:\n",
        "                return pd.read_csv('http://datosabiertos.salud.gob.mx/gobmx/salud/datos_abiertos/datos_abiertos_covid19.zip',compression='zip',low_memory=False,encoding='ISO-8859-1')\n",
        "        else:\n",
        "            return pd.read_csv(f'http://datosabiertos.salud.gob.mx/gobmx/salud/datos_abiertos/historicos/{m}/datos_abiertos_covid19_{d}.{m}.2020.zip',compression='zip',low_memory=False,encoding='ISO-8859-1')\n",
        "    except Exception as e:\n",
        "        print(str(e) + '\\nLa fecha especificada no fue encontrada en la base de datos, o ocurrió un error')\n",
        "\n",
        "try:\n",
        "  print(f'Descargando y leyendo primer archivo ({recent_date})...')\n",
        "  recent_d = read_file(recent_date)\n",
        "  print(f'Descargando y leyendo segundo archivo ({past_date})...')\n",
        "  past_d = read_file(past_date)\n",
        "\n",
        "  print('Filtrando los datos...')\n",
        "  recent_loc = recent_d[recent_d.ENTIDAD_UM == state]\n",
        "  past_loc = past_d[past_d.ENTIDAD_UM == state]\n",
        "\n",
        "  recent_dt = recent_loc[recent_loc.FECHA_DEF != '9999-99-99']\n",
        "  past_dt = past_loc[past_loc.FECHA_DEF != '9999-99-99']\n",
        "  print('¡Finalizado!')\n",
        "except:\n",
        "    print('Ha ocurrido un error, volver a intentarlo.')"
      ],
      "execution_count": null,
      "outputs": []
    },
    {
      "cell_type": "markdown",
      "metadata": {
        "id": "ETPwuZ6g4CDF"
      },
      "source": [
        "# Resultados del comparador"
      ]
    },
    {
      "cell_type": "code",
      "metadata": {
        "id": "GxbSA6Fv1BHE",
        "cellView": "form"
      },
      "source": [
        "#@title ## Nuevos casos entre las dos fechas proporcionadas \n",
        "new_reg = pd.concat([recent_loc,past_loc]).drop_duplicates(keep=False,subset=['ID_REGISTRO'])\n",
        "new_reg"
      ],
      "execution_count": null,
      "outputs": []
    },
    {
      "cell_type": "code",
      "metadata": {
        "id": "Z2yuP2Gy1BHH",
        "cellView": "form"
      },
      "source": [
        "#@title ## Nuevos decesos entre las dos fechas proporcionadas\n",
        "new_dts = pd.concat([recent_dt,past_dt]).drop_duplicates(keep=False,subset=['ID_REGISTRO'])\n",
        "new_dts"
      ],
      "execution_count": null,
      "outputs": []
    },
    {
      "cell_type": "code",
      "metadata": {
        "id": "5Uj_N1Rv1BHI",
        "cellView": "form"
      },
      "source": [
        "#@title ## Ejecutar en caso de que se quiera descargar la tabla de **Nuevos Casos**\n",
        "from google.colab import files\n",
        "\n",
        "new_reg.to_csv(f'NuevosCasos_{past_date}_{recent_date}.csv.gz',compression='gzip',index=False)\n",
        "\n",
        "files.download(f'NuevosCasos_{past_date}_{recent_date}.csv.gz')"
      ],
      "execution_count": null,
      "outputs": []
    },
    {
      "cell_type": "code",
      "metadata": {
        "cellView": "form",
        "id": "14FDd4lOXFAr"
      },
      "source": [
        "#@title ## Ejecutar en caso de que se quiera descargar la tabla de **Nuevos Decesos**\r\n",
        "from google.colab import files\r\n",
        "\r\n",
        "new_dts.to_csv(f'NuevosDecesos_{past_date}_{recent_date}.csv.gz',compression='gzip',index=False)\r\n",
        "\r\n",
        "files.download(f'NuevosDecesos_{past_date}_{recent_date}.csv.gz')"
      ],
      "execution_count": null,
      "outputs": []
    }
  ]
}